{
  "nbformat": 4,
  "nbformat_minor": 0,
  "metadata": {
    "colab": {
      "provenance": [],
      "authorship_tag": "ABX9TyPfuT5JB2MTlBy3FbEuqb/a",
      "include_colab_link": true
    },
    "kernelspec": {
      "name": "python3",
      "display_name": "Python 3"
    },
    "language_info": {
      "name": "python"
    }
  },
  "cells": [
    {
      "cell_type": "markdown",
      "metadata": {
        "id": "view-in-github",
        "colab_type": "text"
      },
      "source": [
        "<a href=\"https://colab.research.google.com/github/KavyaPremaseelan/Neural-Network/blob/main/Tensorflow_Breast_cancer_dataset.ipynb\" target=\"_parent\"><img src=\"https://colab.research.google.com/assets/colab-badge.svg\" alt=\"Open In Colab\"/></a>"
      ]
    },
    {
      "cell_type": "code",
      "execution_count": 1,
      "metadata": {
        "colab": {
          "base_uri": "https://localhost:8080/"
        },
        "id": "zlqnUtPqsHwC",
        "outputId": "433fe580-b018-404a-e26f-a9db65827e7f"
      },
      "outputs": [
        {
          "output_type": "stream",
          "name": "stdout",
          "text": [
            "Epoch 1/10\n",
            "15/15 [==============================] - 2s 41ms/step - loss: 0.4691 - accuracy: 0.8725 - val_loss: 0.3084 - val_accuracy: 0.9649\n",
            "Epoch 2/10\n",
            "15/15 [==============================] - 0s 8ms/step - loss: 0.2572 - accuracy: 0.9407 - val_loss: 0.1750 - val_accuracy: 0.9737\n",
            "Epoch 3/10\n",
            "15/15 [==============================] - 0s 21ms/step - loss: 0.1678 - accuracy: 0.9495 - val_loss: 0.1179 - val_accuracy: 0.9737\n",
            "Epoch 4/10\n",
            "15/15 [==============================] - 0s 21ms/step - loss: 0.1265 - accuracy: 0.9582 - val_loss: 0.0919 - val_accuracy: 0.9737\n",
            "Epoch 5/10\n",
            "15/15 [==============================] - 0s 17ms/step - loss: 0.1038 - accuracy: 0.9670 - val_loss: 0.0784 - val_accuracy: 0.9737\n",
            "Epoch 6/10\n",
            "15/15 [==============================] - 0s 18ms/step - loss: 0.0885 - accuracy: 0.9692 - val_loss: 0.0729 - val_accuracy: 0.9825\n",
            "Epoch 7/10\n",
            "15/15 [==============================] - 0s 10ms/step - loss: 0.0777 - accuracy: 0.9736 - val_loss: 0.0680 - val_accuracy: 0.9825\n",
            "Epoch 8/10\n",
            "15/15 [==============================] - 0s 19ms/step - loss: 0.0687 - accuracy: 0.9780 - val_loss: 0.0650 - val_accuracy: 0.9825\n",
            "Epoch 9/10\n",
            "15/15 [==============================] - 0s 19ms/step - loss: 0.0630 - accuracy: 0.9758 - val_loss: 0.0627 - val_accuracy: 0.9825\n",
            "Epoch 10/10\n",
            "15/15 [==============================] - 0s 10ms/step - loss: 0.0577 - accuracy: 0.9846 - val_loss: 0.0605 - val_accuracy: 0.9825\n",
            "4/4 [==============================] - 0s 8ms/step - loss: 0.0605 - accuracy: 0.9825\n",
            "Accuracy on test data: 98.25%\n"
          ]
        }
      ],
      "source": [
        "import numpy as np\n",
        "import pandas as pd\n",
        "from sklearn.model_selection import train_test_split\n",
        "from sklearn.preprocessing import StandardScaler\n",
        "from sklearn.datasets import load_breast_cancer  # You can replace this with your heart disease dataset\n",
        "\n",
        "# Load the heart disease dataset\n",
        "data = load_breast_cancer()\n",
        "X, y = data.data, data.target\n",
        "\n",
        "# Convert to DataFrame for better understanding (optional)\n",
        "column_names = data.feature_names\n",
        "df = pd.DataFrame(X, columns=column_names)\n",
        "df['target'] = y\n",
        "\n",
        "# Preprocess the data\n",
        "scaler = StandardScaler()\n",
        "X = scaler.fit_transform(X)\n",
        "\n",
        "# Split data into training and testing sets\n",
        "X_train, X_test, y_train, y_test = train_test_split(X, y, test_size=0.2, random_state=42)\n",
        "\n",
        "# Import TensorFlow and Keras\n",
        "import tensorflow as tf\n",
        "from tensorflow.keras.models import Sequential\n",
        "from tensorflow.keras.layers import Dense\n",
        "\n",
        "# Neural network architecture\n",
        "model = Sequential()\n",
        "model.add(Dense(64, activation='relu', input_shape=(X_train.shape[1],)))\n",
        "model.add(Dense(32, activation='relu'))\n",
        "model.add(Dense(1, activation='sigmoid'))  # Output layer for binary classification\n",
        "\n",
        "# Compile the model\n",
        "model.compile(optimizer='adam', loss='binary_crossentropy', metrics=['accuracy'])\n",
        "\n",
        "# Train the model\n",
        "model.fit(X_train, y_train, epochs=10, batch_size=32, validation_data=(X_test, y_test), verbose=1)\n",
        "\n",
        "# Evaluate the model on test data\n",
        "loss, accuracy = model.evaluate(X_test, y_test)\n",
        "print(f\"Accuracy on test data: {accuracy * 100:.2f}%\")\n"
      ]
    }
  ]
}