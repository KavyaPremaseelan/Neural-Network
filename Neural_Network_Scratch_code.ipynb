{
  "nbformat": 4,
  "nbformat_minor": 0,
  "metadata": {
    "colab": {
      "provenance": [],
      "authorship_tag": "ABX9TyNZRQTezP4F999gRuQd1jbr",
      "include_colab_link": true
    },
    "kernelspec": {
      "name": "python3",
      "display_name": "Python 3"
    },
    "language_info": {
      "name": "python"
    }
  },
  "cells": [
    {
      "cell_type": "markdown",
      "metadata": {
        "id": "view-in-github",
        "colab_type": "text"
      },
      "source": [
        "<a href=\"https://colab.research.google.com/github/KavyaPremaseelan/Neural-Network/blob/main/Neural_Network_Scratch_code.ipynb\" target=\"_parent\"><img src=\"https://colab.research.google.com/assets/colab-badge.svg\" alt=\"Open In Colab\"/></a>"
      ]
    },
    {
      "cell_type": "code",
      "execution_count": 1,
      "metadata": {
        "id": "AkUVLnsdSZOF"
      },
      "outputs": [],
      "source": [
        "import numpy as np"
      ]
    },
    {
      "cell_type": "code",
      "source": [
        "x=np.array([[1,0,1,0],[1,0,1,1],[0,1,0,1]])\n",
        "x"
      ],
      "metadata": {
        "colab": {
          "base_uri": "https://localhost:8080/"
        },
        "id": "2tkaG-sjS2oS",
        "outputId": "e351c213-53a3-481e-8436-8b4d1a28858d"
      },
      "execution_count": 2,
      "outputs": [
        {
          "output_type": "execute_result",
          "data": {
            "text/plain": [
              "array([[1, 0, 1, 0],\n",
              "       [1, 0, 1, 1],\n",
              "       [0, 1, 0, 1]])"
            ]
          },
          "metadata": {},
          "execution_count": 2
        }
      ]
    },
    {
      "cell_type": "code",
      "source": [
        "y=np.array([[1],[0],[1]])\n",
        "y"
      ],
      "metadata": {
        "colab": {
          "base_uri": "https://localhost:8080/"
        },
        "id": "TDTpuk3vS9Fs",
        "outputId": "57ce7590-4ef1-4926-9fc8-e3e1d8be4d3c"
      },
      "execution_count": 3,
      "outputs": [
        {
          "output_type": "execute_result",
          "data": {
            "text/plain": [
              "array([[1],\n",
              "       [0],\n",
              "       [1]])"
            ]
          },
          "metadata": {},
          "execution_count": 3
        }
      ]
    },
    {
      "cell_type": "markdown",
      "source": [
        "# ***SIGMOID FUNCTION***"
      ],
      "metadata": {
        "id": "apWb55MLYNhm"
      }
    },
    {
      "cell_type": "code",
      "source": [
        "def sigmoid(x):\n",
        "  return 1/(1+np.exp(-x))"
      ],
      "metadata": {
        "id": "yQkrVGyqTPwi"
      },
      "execution_count": 4,
      "outputs": []
    },
    {
      "cell_type": "code",
      "source": [
        "def derivative_sigmoid(x):\n",
        "  return x*(1-x)"
      ],
      "metadata": {
        "id": "WPfAiOF5Tjk7"
      },
      "execution_count": 5,
      "outputs": []
    },
    {
      "cell_type": "markdown",
      "source": [
        "# ***INITIALIZING***"
      ],
      "metadata": {
        "id": "tWpUzeZqYafv"
      }
    },
    {
      "cell_type": "code",
      "source": [
        "epoch=5000\n",
        "lr=0.4\n",
        "input_neurons=x.shape[1]\n",
        "hidden_neurons=3\n",
        "output_neurons=1"
      ],
      "metadata": {
        "id": "xK78GtauT2se"
      },
      "execution_count": 6,
      "outputs": []
    },
    {
      "cell_type": "code",
      "source": [
        "wh=np.random.uniform(size=(input_neurons,hidden_neurons))\n",
        "bh=np.random.uniform(size=(1,hidden_neurons))\n",
        "wo=np.random.uniform(size=(hidden_neurons,output_neurons))\n",
        "bo=np.random.uniform(size=(1,output_neurons))"
      ],
      "metadata": {
        "id": "AumZOU3oUc_c"
      },
      "execution_count": 7,
      "outputs": []
    },
    {
      "cell_type": "markdown",
      "source": [
        "# ***TRAINING THE MODEL***"
      ],
      "metadata": {
        "id": "sxgpbcB4YTpY"
      }
    },
    {
      "cell_type": "code",
      "source": [
        "for i in range(epoch):\n",
        "    # Forward Propagation\n",
        "    # Hidden Layer\n",
        "    hidden_layer_input = np.dot(x, wh) + bh\n",
        "    hidden_layer_activation = sigmoid(hidden_layer_input)\n",
        "\n",
        "    # Output Layer\n",
        "    output_layer_input = np.dot(hidden_layer_activation, wo) + bo\n",
        "    predicted_output = sigmoid(output_layer_input)\n",
        "\n",
        "    # Backward Propagation\n",
        "    # Calculate Error\n",
        "    error = y - predicted_output\n",
        "\n",
        "    # Calculate gradients at output layer\n",
        "    slope_output_layer = derivative_sigmoid(predicted_output)\n",
        "    delta_output = error * slope_output_layer\n",
        "\n",
        "    # Calculate gradients at hidden layer\n",
        "    error_hidden_layer = delta_output.dot(wo.T)\n",
        "    slope_hidden_layer = derivative_sigmoid(hidden_layer_activation)\n",
        "    delta_hidden = error_hidden_layer * slope_hidden_layer\n",
        "\n",
        "    # Update Weights and Biases\n",
        "    wo += hidden_layer_activation.T.dot(delta_output) * lr\n",
        "    bo += np.sum(delta_output, axis=0, keepdims=True) * lr\n",
        "    wh += x.T.dot(delta_hidden) * lr\n",
        "    bh += np.sum(delta_hidden, axis=0, keepdims=True) * lr"
      ],
      "metadata": {
        "id": "ZjKpZnZZVIZJ"
      },
      "execution_count": 8,
      "outputs": []
    },
    {
      "cell_type": "code",
      "source": [
        "print(\"Output after training:\")\n",
        "print(predicted_output)"
      ],
      "metadata": {
        "colab": {
          "base_uri": "https://localhost:8080/"
        },
        "id": "dC5sOZDLXLyf",
        "outputId": "bc138ba5-1f3c-46fc-c0aa-38d130aa1dba"
      },
      "execution_count": 9,
      "outputs": [
        {
          "output_type": "stream",
          "name": "stdout",
          "text": [
            "Output after training:\n",
            "[[0.98326953]\n",
            " [0.02100146]\n",
            " [0.98768992]]\n"
          ]
        }
      ]
    }
  ]
}