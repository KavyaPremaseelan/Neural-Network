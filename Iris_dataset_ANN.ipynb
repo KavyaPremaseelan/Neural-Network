{
  "nbformat": 4,
  "nbformat_minor": 0,
  "metadata": {
    "colab": {
      "provenance": [],
      "authorship_tag": "ABX9TyOK2n6AcuTxlVS533P7+uLM",
      "include_colab_link": true
    },
    "kernelspec": {
      "name": "python3",
      "display_name": "Python 3"
    },
    "language_info": {
      "name": "python"
    }
  },
  "cells": [
    {
      "cell_type": "markdown",
      "metadata": {
        "id": "view-in-github",
        "colab_type": "text"
      },
      "source": [
        "<a href=\"https://colab.research.google.com/github/KavyaPremaseelan/Neural-Network/blob/main/Iris_dataset_ANN.ipynb\" target=\"_parent\"><img src=\"https://colab.research.google.com/assets/colab-badge.svg\" alt=\"Open In Colab\"/></a>"
      ]
    },
    {
      "cell_type": "code",
      "source": [
        "import numpy as np\n",
        "from sklearn import datasets\n",
        "from sklearn.model_selection import train_test_split\n",
        "\n",
        "# Load Iris dataset\n",
        "iris = datasets.load_iris()\n",
        "X = iris.data\n",
        "y = iris.target\n",
        "\n",
        "# Normalize input features\n",
        "X = (X - X.mean(axis=0)) / X.std(axis=0)\n",
        "\n",
        "# One-hot encode the target variable\n",
        "num_classes = len(np.unique(y))\n",
        "y_onehot = np.eye(num_classes)[y]\n",
        "\n",
        "# Split data into training and testing sets\n",
        "X_train, X_test, y_train, y_test = train_test_split(X, y_onehot, test_size=0.2, random_state=42)\n",
        "\n",
        "# Sigmoid activation function\n",
        "def sigmoid(x):\n",
        "    return 1 / (1 + np.exp(-x))\n",
        "\n",
        "# Derivative of sigmoid function\n",
        "def sigmoid_derivative(x):\n",
        "    return x * (1 - x)\n",
        "\n",
        "# Initialize weights and biases randomly\n",
        "input_neurons = X.shape[1]\n",
        "hidden_neurons = 8\n",
        "output_neurons = num_classes\n",
        "\n",
        "hidden_weights = np.random.rand(input_neurons, hidden_neurons)\n",
        "hidden_bias = np.random.rand(1, hidden_neurons)\n",
        "\n",
        "output_weights = np.random.rand(hidden_neurons, output_neurons)\n",
        "output_bias = np.random.rand(1, output_neurons)\n",
        "\n",
        "# Training the neural network (forward propagation and backpropagation)\n",
        "learning_rate = 0.1\n",
        "epochs = 1000\n",
        "\n",
        "for epoch in range(epochs):\n",
        "    # Forward propagation\n",
        "    hidden_layer_activation = np.dot(X_train, hidden_weights) + hidden_bias\n",
        "    hidden_layer_output = sigmoid(hidden_layer_activation)\n",
        "\n",
        "    output_layer_activation = np.dot(hidden_layer_output, output_weights) + output_bias\n",
        "    output = sigmoid(output_layer_activation)\n",
        "\n",
        "    # Backpropagation\n",
        "    output_error = y_train - output\n",
        "    output_delta = output_error * sigmoid_derivative(output)\n",
        "\n",
        "    hidden_error = output_delta.dot(output_weights.T)\n",
        "    hidden_delta = hidden_error * sigmoid_derivative(hidden_layer_output)\n",
        "\n",
        "    # Update weights and biases\n",
        "    output_weights += hidden_layer_output.T.dot(output_delta) * learning_rate\n",
        "    output_bias += np.sum(output_delta, axis=0, keepdims=True) * learning_rate\n",
        "\n",
        "    hidden_weights += X_train.T.dot(hidden_delta) * learning_rate\n",
        "    hidden_bias += np.sum(hidden_delta, axis=0, keepdims=True) * learning_rate\n",
        "\n",
        "# Testing the trained model\n",
        "hidden_layer_activation = np.dot(X_test, hidden_weights) + hidden_bias\n",
        "hidden_layer_output = sigmoid(hidden_layer_activation)\n",
        "\n",
        "output_layer_activation = np.dot(hidden_layer_output, output_weights) + output_bias\n",
        "test_output = sigmoid(output_layer_activation)\n",
        "\n",
        "# Calculate accuracy on the test set\n",
        "predicted_labels = np.argmax(test_output, axis=1)\n",
        "true_labels = np.argmax(y_test, axis=1)\n",
        "accuracy = np.mean(predicted_labels == true_labels)\n",
        "\n",
        "print(f\"Accuracy on test set: {accuracy * 100:.2f}%\")\n"
      ],
      "metadata": {
        "colab": {
          "base_uri": "https://localhost:8080/"
        },
        "id": "tWcUn39saurh",
        "outputId": "93c4ae0a-5f8e-4e64-efe4-e7e4c65b7419"
      },
      "execution_count": 8,
      "outputs": [
        {
          "output_type": "stream",
          "name": "stdout",
          "text": [
            "Accuracy on test set: 100.00%\n"
          ]
        }
      ]
    }
  ]
}